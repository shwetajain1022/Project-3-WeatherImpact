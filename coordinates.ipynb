{
 "cells": [
  {
   "cell_type": "code",
   "execution_count": null,
   "metadata": {},
   "outputs": [],
   "source": [
    " # Dependencies\n",
    "import json\n",
    "import requests\n",
    "import pandas as pd\n",
    "import sqlite3\n",
    "import datetime"
   ]
  },
  {
   "cell_type": "code",
   "execution_count": null,
   "metadata": {},
   "outputs": [],
   "source": [
    "coord_Au = pd.read_csv('Resources/auCoord.csv')\n",
    "coord = pd.DataFrame(coord_Au)\n",
    "coord.head()"
   ]
  },
  {
   "cell_type": "code",
   "execution_count": null,
   "metadata": {},
   "outputs": [],
   "source": [
    "weather_AU = pd.read_csv('Resources/weatherAUS.csv')\n",
    "weather = pd.DataFrame(weather_AU)\n",
    "weather.head()"
   ]
  },
  {
   "cell_type": "code",
   "execution_count": null,
   "metadata": {},
   "outputs": [],
   "source": [
    "datetime.datetime.strptime(weather['Date'][2], \"%d/%m/%Y\").strftime(\"%Y-%m-%d\")"
   ]
  },
  {
   "cell_type": "code",
   "execution_count": null,
   "metadata": {},
   "outputs": [],
   "source": [
    "pd.to_datetime(weather['Date'],format='%d/%m/%Y').dt.strftime('%Y-%m-%d')"
   ]
  },
  {
   "cell_type": "code",
   "execution_count": null,
   "metadata": {},
   "outputs": [],
   "source": [
    "weather['Date'] = pd.to_datetime(weather['Date'],format='%d/%m/%Y').dt.strftime('%Y-%m-%d')"
   ]
  },
  {
   "cell_type": "code",
   "execution_count": null,
   "metadata": {},
   "outputs": [],
   "source": [
    "joint_df = weather.merge(coord, on='City')\n",
    "joint_df.head()"
   ]
  },
  {
   "cell_type": "code",
   "execution_count": null,
   "metadata": {},
   "outputs": [],
   "source": [
    "joint_df_2 = joint_df[['Date', 'City', 'Latitude', 'Longtitude', 'State', 'Population', 'MinTemp','MaxTemp','Rainfall', 'Evaporation', 'Sunshine', 'WindGustDir', 'WindGustSpeed', 'Humidity9am',\t'Humidity3pm',\t'Pressure9am',\t'Pressure3pm',\t'Cloud9am',\t'Cloud3pm',\t'RainToday', 'RISK_MM',\t'RainTomorrow']]"
   ]
  },
  {
   "cell_type": "code",
   "execution_count": null,
   "metadata": {},
   "outputs": [],
   "source": [
    "selected_au_cities = joint_df_2.loc[joint_df_2['City'].isin(['Perth','Darwin','AliceSprings','Adelaide','Townsville','Brisbane','Sydney','Melbourne','Canberra','Hobart'])]"
   ]
  },
  {
   "cell_type": "code",
   "execution_count": null,
   "metadata": {},
   "outputs": [],
   "source": [
    "# selected_au_cities.City.unique()"
   ]
  },
  {
   "cell_type": "code",
   "execution_count": null,
   "metadata": {},
   "outputs": [],
   "source": [
    "# from pathlib import Path  \n",
    "# filepath = Path('c:/Users/user/Desktop/Project3/Resources/AllAus.csv')  \n",
    "# filepath.parent.mkdir(parents=True, exist_ok=True)  \n",
    "# joint_df_2.to_csv(filepath)  "
   ]
  },
  {
   "cell_type": "code",
   "execution_count": null,
   "metadata": {},
   "outputs": [],
   "source": [
    "conn = sqlite3.connect('AllAus_Weather_History.sqlite')\n",
    "c = conn.cursor()"
   ]
  },
  {
   "cell_type": "code",
   "execution_count": null,
   "metadata": {},
   "outputs": [],
   "source": []
  },
  {
   "cell_type": "code",
   "execution_count": null,
   "metadata": {},
   "outputs": [],
   "source": [
    "c.execute('create table  IF NOT EXISTS auscityweather( \\\n",
    "id INTEGER ,\\\n",
    "Date varchar(10), \\\n",
    "City varchar(50), \\\n",
    "Latitude double, \\\n",
    "Longtitude double, \\\n",
    "State varchar(30), \\\n",
    "Population varchar(30), \\\n",
    "MinTemp float, \\\n",
    "MaxTemp float, \\\n",
    "Rainfall float, \\\n",
    "Evaporation float, \\\n",
    "Sunshine float, \\\n",
    "WindGustDir varchar(6), \\\n",
    "WindGustSpeed float, \\\n",
    "Humidity9am float, \\\n",
    "Humidity3pm float, \\\n",
    "Pressure9am float, \\\n",
    "Pressure3pm float, \\\n",
    "Cloud9am float, \\\n",
    "Cloud3pm float, \\\n",
    "RainToday boolean, \\\n",
    "RISK_MM float, \\\n",
    "RainTomorrow boolean,\\\n",
    "PRIMARY KEY (id))')\n",
    "conn.commit()"
   ]
  },
  {
   "cell_type": "code",
   "execution_count": null,
   "metadata": {},
   "outputs": [],
   "source": [
    "selected_au_cities.to_sql('auscityweather', conn, if_exists='replace', index = False)"
   ]
  },
  {
   "cell_type": "code",
   "execution_count": null,
   "metadata": {},
   "outputs": [],
   "source": [
    "c.execute('''  \n",
    "SELECT * FROM auscityweather limit 5\n",
    "          ''')\n",
    "\n",
    "for row in c.fetchall():\n",
    "    print (row)"
   ]
  }
 ],
 "metadata": {
  "kernelspec": {
   "display_name": "PythonData",
   "language": "python",
   "name": "python3"
  },
  "language_info": {
   "codemirror_mode": {
    "name": "ipython",
    "version": 3
   },
   "file_extension": ".py",
   "mimetype": "text/x-python",
   "name": "python",
   "nbconvert_exporter": "python",
   "pygments_lexer": "ipython3",
   "version": "3.7.7"
  },
  "orig_nbformat": 4
 },
 "nbformat": 4,
 "nbformat_minor": 2
}
